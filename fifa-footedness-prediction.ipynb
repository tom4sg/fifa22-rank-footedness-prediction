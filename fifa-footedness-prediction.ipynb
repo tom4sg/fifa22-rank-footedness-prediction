{
 "cells": [
  {
   "cell_type": "code",
   "execution_count": 2,
   "id": "75520249-7e4b-46cf-8d06-0d785c5aaef8",
   "metadata": {},
   "outputs": [
    {
     "data": {
      "text/html": [
       "<div>\n",
       "<style scoped>\n",
       "    .dataframe tbody tr th:only-of-type {\n",
       "        vertical-align: middle;\n",
       "    }\n",
       "\n",
       "    .dataframe tbody tr th {\n",
       "        vertical-align: top;\n",
       "    }\n",
       "\n",
       "    .dataframe thead th {\n",
       "        text-align: right;\n",
       "    }\n",
       "</style>\n",
       "<table border=\"1\" class=\"dataframe\">\n",
       "  <thead>\n",
       "    <tr style=\"text-align: right;\">\n",
       "      <th></th>\n",
       "      <th>name</th>\n",
       "      <th>rank</th>\n",
       "      <th>gender</th>\n",
       "      <th>wage_eur</th>\n",
       "      <th>log_wage</th>\n",
       "      <th>position</th>\n",
       "      <th>nationality</th>\n",
       "      <th>club</th>\n",
       "      <th>league</th>\n",
       "      <th>preferred_foot</th>\n",
       "      <th>shooting</th>\n",
       "      <th>passing</th>\n",
       "      <th>dribbling</th>\n",
       "      <th>defending</th>\n",
       "      <th>attacking</th>\n",
       "      <th>skill</th>\n",
       "      <th>movement</th>\n",
       "      <th>power</th>\n",
       "      <th>mentality</th>\n",
       "      <th>goalkeeping</th>\n",
       "    </tr>\n",
       "  </thead>\n",
       "  <tbody>\n",
       "    <tr>\n",
       "      <th>0</th>\n",
       "      <td>Lionel Andrés Messi Cuccittini</td>\n",
       "      <td>93</td>\n",
       "      <td>M</td>\n",
       "      <td>320000.0</td>\n",
       "      <td>12.676076</td>\n",
       "      <td>RW</td>\n",
       "      <td>Argentina</td>\n",
       "      <td>Paris Saint-Germain</td>\n",
       "      <td>French Ligue 1</td>\n",
       "      <td>Left</td>\n",
       "      <td>92.0</td>\n",
       "      <td>91.0</td>\n",
       "      <td>95.0</td>\n",
       "      <td>26.333333</td>\n",
       "      <td>85.8</td>\n",
       "      <td>94.0</td>\n",
       "      <td>90.2</td>\n",
       "      <td>77.8</td>\n",
       "      <td>73.833333</td>\n",
       "      <td>10.8</td>\n",
       "    </tr>\n",
       "    <tr>\n",
       "      <th>1</th>\n",
       "      <td>Lucia Roberta Tough Bronze</td>\n",
       "      <td>92</td>\n",
       "      <td>F</td>\n",
       "      <td>NaN</td>\n",
       "      <td>NaN</td>\n",
       "      <td>NaN</td>\n",
       "      <td>England</td>\n",
       "      <td>NaN</td>\n",
       "      <td>NaN</td>\n",
       "      <td>Right</td>\n",
       "      <td>61.0</td>\n",
       "      <td>70.0</td>\n",
       "      <td>81.0</td>\n",
       "      <td>89.000000</td>\n",
       "      <td>69.0</td>\n",
       "      <td>62.2</td>\n",
       "      <td>84.2</td>\n",
       "      <td>78.8</td>\n",
       "      <td>69.166667</td>\n",
       "      <td>12.6</td>\n",
       "    </tr>\n",
       "    <tr>\n",
       "      <th>2</th>\n",
       "      <td>Vivianne Miedema</td>\n",
       "      <td>92</td>\n",
       "      <td>F</td>\n",
       "      <td>NaN</td>\n",
       "      <td>NaN</td>\n",
       "      <td>NaN</td>\n",
       "      <td>Netherlands</td>\n",
       "      <td>NaN</td>\n",
       "      <td>NaN</td>\n",
       "      <td>Right</td>\n",
       "      <td>93.0</td>\n",
       "      <td>75.0</td>\n",
       "      <td>88.0</td>\n",
       "      <td>25.000000</td>\n",
       "      <td>86.0</td>\n",
       "      <td>79.0</td>\n",
       "      <td>80.6</td>\n",
       "      <td>84.0</td>\n",
       "      <td>70.833333</td>\n",
       "      <td>15.6</td>\n",
       "    </tr>\n",
       "    <tr>\n",
       "      <th>3</th>\n",
       "      <td>Wéndèleine Thérèse Renard</td>\n",
       "      <td>92</td>\n",
       "      <td>F</td>\n",
       "      <td>NaN</td>\n",
       "      <td>NaN</td>\n",
       "      <td>NaN</td>\n",
       "      <td>France</td>\n",
       "      <td>NaN</td>\n",
       "      <td>NaN</td>\n",
       "      <td>Right</td>\n",
       "      <td>70.0</td>\n",
       "      <td>62.0</td>\n",
       "      <td>73.0</td>\n",
       "      <td>91.333333</td>\n",
       "      <td>62.6</td>\n",
       "      <td>67.8</td>\n",
       "      <td>64.0</td>\n",
       "      <td>82.4</td>\n",
       "      <td>73.500000</td>\n",
       "      <td>12.8</td>\n",
       "    </tr>\n",
       "    <tr>\n",
       "      <th>4</th>\n",
       "      <td>Robert Lewandowski</td>\n",
       "      <td>92</td>\n",
       "      <td>M</td>\n",
       "      <td>270000.0</td>\n",
       "      <td>12.506177</td>\n",
       "      <td>ST</td>\n",
       "      <td>Poland</td>\n",
       "      <td>FC Bayern München</td>\n",
       "      <td>German 1. Bundesliga</td>\n",
       "      <td>Right</td>\n",
       "      <td>92.0</td>\n",
       "      <td>79.0</td>\n",
       "      <td>86.0</td>\n",
       "      <td>32.000000</td>\n",
       "      <td>86.0</td>\n",
       "      <td>81.4</td>\n",
       "      <td>81.6</td>\n",
       "      <td>84.8</td>\n",
       "      <td>80.666667</td>\n",
       "      <td>10.2</td>\n",
       "    </tr>\n",
       "  </tbody>\n",
       "</table>\n",
       "</div>"
      ],
      "text/plain": [
       "                             name  rank gender  wage_eur   log_wage position  \\\n",
       "0  Lionel Andrés Messi Cuccittini    93      M  320000.0  12.676076       RW   \n",
       "1      Lucia Roberta Tough Bronze    92      F       NaN        NaN      NaN   \n",
       "2                Vivianne Miedema    92      F       NaN        NaN      NaN   \n",
       "3       Wéndèleine Thérèse Renard    92      F       NaN        NaN      NaN   \n",
       "4              Robert Lewandowski    92      M  270000.0  12.506177       ST   \n",
       "\n",
       "   nationality                 club                league preferred_foot  \\\n",
       "0    Argentina  Paris Saint-Germain        French Ligue 1           Left   \n",
       "1      England                  NaN                   NaN          Right   \n",
       "2  Netherlands                  NaN                   NaN          Right   \n",
       "3       France                  NaN                   NaN          Right   \n",
       "4       Poland    FC Bayern München  German 1. Bundesliga          Right   \n",
       "\n",
       "   shooting  passing  dribbling  defending  attacking  skill  movement  power  \\\n",
       "0      92.0     91.0       95.0  26.333333       85.8   94.0      90.2   77.8   \n",
       "1      61.0     70.0       81.0  89.000000       69.0   62.2      84.2   78.8   \n",
       "2      93.0     75.0       88.0  25.000000       86.0   79.0      80.6   84.0   \n",
       "3      70.0     62.0       73.0  91.333333       62.6   67.8      64.0   82.4   \n",
       "4      92.0     79.0       86.0  32.000000       86.0   81.4      81.6   84.8   \n",
       "\n",
       "   mentality  goalkeeping  \n",
       "0  73.833333         10.8  \n",
       "1  69.166667         12.6  \n",
       "2  70.833333         15.6  \n",
       "3  73.500000         12.8  \n",
       "4  80.666667         10.2  "
      ]
     },
     "execution_count": 2,
     "metadata": {},
     "output_type": "execute_result"
    }
   ],
   "source": [
    "import pandas as pd\n",
    "import numpy as np\n",
    "import matplotlib.pyplot as plt\n",
    "df = pd.read_csv(\"fifa22.csv\")\n",
    "df.head()"
   ]
  },
  {
   "cell_type": "markdown",
   "id": "301af5d7-1e68-4734-8040-520638dd13b0",
   "metadata": {},
   "source": [
    "the unit of analysis appears to be an individual soccer players. "
   ]
  },
  {
   "cell_type": "code",
   "execution_count": 4,
   "id": "ba4df957-8186-4c0e-aa96-1d3b37dfc18d",
   "metadata": {},
   "outputs": [
    {
     "name": "stdout",
     "output_type": "stream",
     "text": [
      "Number of observations: 19630\n",
      "Number of features: 20\n"
     ]
    }
   ],
   "source": [
    "observations, features = df.shape\n",
    "print(f\"Number of observations: {observations}\")\n",
    "print(f\"Number of features: {features}\")"
   ]
  },
  {
   "cell_type": "markdown",
   "id": "c5885933-5e02-4dea-a96c-2c91504504c0",
   "metadata": {},
   "source": [
    "There are 19,630 observations and 20 features in the dataset. "
   ]
  },
  {
   "cell_type": "code",
   "execution_count": 6,
   "id": "080d4ebc-4c6e-4683-a04e-e4fd42246eee",
   "metadata": {},
   "outputs": [
    {
     "data": {
      "text/plain": [
       "gender\n",
       "M    19239\n",
       "F      391\n",
       "Name: count, dtype: int64"
      ]
     },
     "execution_count": 6,
     "metadata": {},
     "output_type": "execute_result"
    }
   ],
   "source": [
    "df['gender'].value_counts()"
   ]
  },
  {
   "cell_type": "markdown",
   "id": "459d8208-dc94-4c82-90ab-c5624c9af299",
   "metadata": {},
   "source": [
    "There are 19,239 male players and 391 female players in the dataset. "
   ]
  },
  {
   "cell_type": "code",
   "execution_count": 8,
   "id": "82622b86-5410-48fe-a5de-d55cc0f4116d",
   "metadata": {},
   "outputs": [
    {
     "data": {
      "text/plain": [
       "(17450, 20)"
      ]
     },
     "execution_count": 8,
     "metadata": {},
     "output_type": "execute_result"
    }
   ],
   "source": [
    "# drop only rows where the column passing contains a NaN for practice\n",
    "df_dropped = df.dropna(subset=['passing'])\n",
    "\n",
    "# display shape\n",
    "df_dropped.shape"
   ]
  },
  {
   "cell_type": "code",
   "execution_count": 9,
   "id": "aa4a6556-275f-4159-814c-1b4458386cbb",
   "metadata": {},
   "outputs": [],
   "source": [
    "import statsmodels.api as sm"
   ]
  },
  {
   "cell_type": "code",
   "execution_count": 10,
   "id": "f4a6817a-d0f3-4d02-8796-2102c0a4100f",
   "metadata": {},
   "outputs": [
    {
     "data": {
      "text/html": [
       "<table class=\"simpletable\">\n",
       "<caption>OLS Regression Results</caption>\n",
       "<tr>\n",
       "  <th>Dep. Variable:</th>          <td>rank</td>       <th>  R-squared:         </th> <td>   0.705</td> \n",
       "</tr>\n",
       "<tr>\n",
       "  <th>Model:</th>                   <td>OLS</td>       <th>  Adj. R-squared:    </th> <td>   0.705</td> \n",
       "</tr>\n",
       "<tr>\n",
       "  <th>Method:</th>             <td>Least Squares</td>  <th>  F-statistic:       </th> <td>1.044e+04</td>\n",
       "</tr>\n",
       "<tr>\n",
       "  <th>Date:</th>             <td>Thu, 06 Feb 2025</td> <th>  Prob (F-statistic):</th>  <td>  0.00</td>  \n",
       "</tr>\n",
       "<tr>\n",
       "  <th>Time:</th>                 <td>01:42:36</td>     <th>  Log-Likelihood:    </th> <td> -47856.</td> \n",
       "</tr>\n",
       "<tr>\n",
       "  <th>No. Observations:</th>      <td> 17450</td>      <th>  AIC:               </th> <td>9.572e+04</td>\n",
       "</tr>\n",
       "<tr>\n",
       "  <th>Df Residuals:</th>          <td> 17445</td>      <th>  BIC:               </th> <td>9.576e+04</td>\n",
       "</tr>\n",
       "<tr>\n",
       "  <th>Df Model:</th>              <td>     4</td>      <th>                     </th>     <td> </td>    \n",
       "</tr>\n",
       "<tr>\n",
       "  <th>Covariance Type:</th>      <td>nonrobust</td>    <th>                     </th>     <td> </td>    \n",
       "</tr>\n",
       "</table>\n",
       "<table class=\"simpletable\">\n",
       "<tr>\n",
       "      <td></td>         <th>coef</th>     <th>std err</th>      <th>t</th>      <th>P>|t|</th>  <th>[0.025</th>    <th>0.975]</th>  \n",
       "</tr>\n",
       "<tr>\n",
       "  <th>const</th>     <td>   25.3278</td> <td>    0.203</td> <td>  124.785</td> <td> 0.000</td> <td>   24.930</td> <td>   25.726</td>\n",
       "</tr>\n",
       "<tr>\n",
       "  <th>passing</th>   <td>   -0.0247</td> <td>    0.010</td> <td>   -2.425</td> <td> 0.015</td> <td>   -0.045</td> <td>   -0.005</td>\n",
       "</tr>\n",
       "<tr>\n",
       "  <th>attacking</th> <td>    0.6109</td> <td>    0.006</td> <td>   94.005</td> <td> 0.000</td> <td>    0.598</td> <td>    0.624</td>\n",
       "</tr>\n",
       "<tr>\n",
       "  <th>defending</th> <td>    0.1719</td> <td>    0.002</td> <td>   84.413</td> <td> 0.000</td> <td>    0.168</td> <td>    0.176</td>\n",
       "</tr>\n",
       "<tr>\n",
       "  <th>skill</th>     <td>    0.0066</td> <td>    0.009</td> <td>    0.730</td> <td> 0.465</td> <td>   -0.011</td> <td>    0.024</td>\n",
       "</tr>\n",
       "</table>\n",
       "<table class=\"simpletable\">\n",
       "<tr>\n",
       "  <th>Omnibus:</th>       <td>171.799</td> <th>  Durbin-Watson:     </th> <td>   1.342</td>\n",
       "</tr>\n",
       "<tr>\n",
       "  <th>Prob(Omnibus):</th> <td> 0.000</td>  <th>  Jarque-Bera (JB):  </th> <td> 178.339</td>\n",
       "</tr>\n",
       "<tr>\n",
       "  <th>Skew:</th>          <td> 0.234</td>  <th>  Prob(JB):          </th> <td>1.88e-39</td>\n",
       "</tr>\n",
       "<tr>\n",
       "  <th>Kurtosis:</th>      <td> 3.163</td>  <th>  Cond. No.          </th> <td>    790.</td>\n",
       "</tr>\n",
       "</table><br/><br/>Notes:<br/>[1] Standard Errors assume that the covariance matrix of the errors is correctly specified."
      ],
      "text/latex": [
       "\\begin{center}\n",
       "\\begin{tabular}{lclc}\n",
       "\\toprule\n",
       "\\textbf{Dep. Variable:}    &       rank       & \\textbf{  R-squared:         } &     0.705   \\\\\n",
       "\\textbf{Model:}            &       OLS        & \\textbf{  Adj. R-squared:    } &     0.705   \\\\\n",
       "\\textbf{Method:}           &  Least Squares   & \\textbf{  F-statistic:       } & 1.044e+04   \\\\\n",
       "\\textbf{Date:}             & Thu, 06 Feb 2025 & \\textbf{  Prob (F-statistic):} &     0.00    \\\\\n",
       "\\textbf{Time:}             &     01:42:36     & \\textbf{  Log-Likelihood:    } &   -47856.   \\\\\n",
       "\\textbf{No. Observations:} &       17450      & \\textbf{  AIC:               } & 9.572e+04   \\\\\n",
       "\\textbf{Df Residuals:}     &       17445      & \\textbf{  BIC:               } & 9.576e+04   \\\\\n",
       "\\textbf{Df Model:}         &           4      & \\textbf{                     } &             \\\\\n",
       "\\textbf{Covariance Type:}  &    nonrobust     & \\textbf{                     } &             \\\\\n",
       "\\bottomrule\n",
       "\\end{tabular}\n",
       "\\begin{tabular}{lcccccc}\n",
       "                   & \\textbf{coef} & \\textbf{std err} & \\textbf{t} & \\textbf{P$> |$t$|$} & \\textbf{[0.025} & \\textbf{0.975]}  \\\\\n",
       "\\midrule\n",
       "\\textbf{const}     &      25.3278  &        0.203     &   124.785  &         0.000        &       24.930    &       25.726     \\\\\n",
       "\\textbf{passing}   &      -0.0247  &        0.010     &    -2.425  &         0.015        &       -0.045    &       -0.005     \\\\\n",
       "\\textbf{attacking} &       0.6109  &        0.006     &    94.005  &         0.000        &        0.598    &        0.624     \\\\\n",
       "\\textbf{defending} &       0.1719  &        0.002     &    84.413  &         0.000        &        0.168    &        0.176     \\\\\n",
       "\\textbf{skill}     &       0.0066  &        0.009     &     0.730  &         0.465        &       -0.011    &        0.024     \\\\\n",
       "\\bottomrule\n",
       "\\end{tabular}\n",
       "\\begin{tabular}{lclc}\n",
       "\\textbf{Omnibus:}       & 171.799 & \\textbf{  Durbin-Watson:     } &    1.342  \\\\\n",
       "\\textbf{Prob(Omnibus):} &   0.000 & \\textbf{  Jarque-Bera (JB):  } &  178.339  \\\\\n",
       "\\textbf{Skew:}          &   0.234 & \\textbf{  Prob(JB):          } & 1.88e-39  \\\\\n",
       "\\textbf{Kurtosis:}      &   3.163 & \\textbf{  Cond. No.          } &     790.  \\\\\n",
       "\\bottomrule\n",
       "\\end{tabular}\n",
       "%\\caption{OLS Regression Results}\n",
       "\\end{center}\n",
       "\n",
       "Notes: \\newline\n",
       " [1] Standard Errors assume that the covariance matrix of the errors is correctly specified."
      ],
      "text/plain": [
       "<class 'statsmodels.iolib.summary.Summary'>\n",
       "\"\"\"\n",
       "                            OLS Regression Results                            \n",
       "==============================================================================\n",
       "Dep. Variable:                   rank   R-squared:                       0.705\n",
       "Model:                            OLS   Adj. R-squared:                  0.705\n",
       "Method:                 Least Squares   F-statistic:                 1.044e+04\n",
       "Date:                Thu, 06 Feb 2025   Prob (F-statistic):               0.00\n",
       "Time:                        01:42:36   Log-Likelihood:                -47856.\n",
       "No. Observations:               17450   AIC:                         9.572e+04\n",
       "Df Residuals:                   17445   BIC:                         9.576e+04\n",
       "Df Model:                           4                                         \n",
       "Covariance Type:            nonrobust                                         \n",
       "==============================================================================\n",
       "                 coef    std err          t      P>|t|      [0.025      0.975]\n",
       "------------------------------------------------------------------------------\n",
       "const         25.3278      0.203    124.785      0.000      24.930      25.726\n",
       "passing       -0.0247      0.010     -2.425      0.015      -0.045      -0.005\n",
       "attacking      0.6109      0.006     94.005      0.000       0.598       0.624\n",
       "defending      0.1719      0.002     84.413      0.000       0.168       0.176\n",
       "skill          0.0066      0.009      0.730      0.465      -0.011       0.024\n",
       "==============================================================================\n",
       "Omnibus:                      171.799   Durbin-Watson:                   1.342\n",
       "Prob(Omnibus):                  0.000   Jarque-Bera (JB):              178.339\n",
       "Skew:                           0.234   Prob(JB):                     1.88e-39\n",
       "Kurtosis:                       3.163   Cond. No.                         790.\n",
       "==============================================================================\n",
       "\n",
       "Notes:\n",
       "[1] Standard Errors assume that the covariance matrix of the errors is correctly specified.\n",
       "\"\"\""
      ]
     },
     "execution_count": 10,
     "metadata": {},
     "output_type": "execute_result"
    }
   ],
   "source": [
    "X = df[['passing', 'attacking', 'defending', 'skill']]\n",
    "y = df['rank']\n",
    "X = sm.add_constant(X)\n",
    "model = sm.OLS(y, X, missing='drop').fit()\n",
    "model.summary()"
   ]
  },
  {
   "cell_type": "code",
   "execution_count": 11,
   "id": "7214d960-49dd-4ae6-af70-f6d7e3245b4e",
   "metadata": {},
   "outputs": [
    {
     "data": {
      "image/png": "[encoded data removed]",
      "text/plain": [
       "<Figure size 640x480 with 1 Axes>"
      ]
     },
     "metadata": {},
     "output_type": "display_data"
    }
   ],
   "source": [
    "fitted_values = model.fittedvalues\n",
    "residuals = model.resid\n",
    "\n",
    "plt.scatter(fitted_values, residuals)\n",
    "plt.title('Residual vs. Fitted Plot')\n",
    "plt.xlabel('Fitted Values')\n",
    "plt.ylabel('Residuals')\n",
    "plt.show()"
   ]
  },
  {
   "cell_type": "markdown",
   "id": "4be96ad1-8efb-4816-8a1b-7d6d193e14e6",
   "metadata": {},
   "source": [
    "After plotting residual-versus-fitted, you can see that heteroskedasticity is not a problem because the plot does not have a clear trend. \n",
    "One concern could be the outlier values that have residuals between the 15-20 range(roughly x=65). Since residual is the difference/error between the predicted and observed values, outliers with unusually large residuals could mean that the model's accuracy is inconsistent."
   ]
  },
  {
   "cell_type": "markdown",
   "id": "ccdf997c-6e2b-4edd-9989-e78272197225",
   "metadata": {},
   "source": [
    "The variation in rank which is explained by our features is the R-squared statistic, which is 0.705. We can say that about 70.5% of the variation in rank is explained by the features in our model. "
   ]
  },
  {
   "cell_type": "markdown",
   "id": "d77a5341-558d-424b-b756-37dede313881",
   "metadata": {},
   "source": [
    "Holding passing, attacking, and defending constant, a 1-unit increase in “skill” is associated with a .0066 increase in rank. I got this value by observing the coefficient associated with skill in the model summary. Notice still that the p-value for skill .465, meaning that it might not have a big influence here. "
   ]
  },
  {
   "cell_type": "markdown",
   "id": "d4bac087-0141-4662-92d7-63a5641d4927",
   "metadata": {},
   "source": [
    "A 95% confidence interval for the effect of a 1-unit increase in skill(holding passing, attacking, and defending constant) on ranking is [-0.011, 0.024], as seen in the model summary."
   ]
  },
  {
   "cell_type": "markdown",
   "id": "ef12b364-21b5-4d8d-97f2-9934e683b94d",
   "metadata": {},
   "source": [
    "Since the 95% confidence interval for the effect of a 1-unit increase in skill (holding other features constant) on ranking is [-0.011, 0.024], we can glean several things. Firstly, if we were to repeatedly collect random samples from the population and calculate the confidence interval for the coefficient associated with the skill feature, then in 95% of those samples, the true coefficient would fall within the calculated confidence interval. Secondly, the 95% confidence interval contains zero, meaning that a 1-unit increase in skill (holding other features constant) could correspond to a negative effect, a positive effect, or no effect at all. This inclusion of zero suggests that the null hypothesis—that the coefficient of skill is zero—cannot be rejected."
   ]
  },
  {
   "cell_type": "markdown",
   "id": "b5be9111-fe2a-4321-b5d4-d3436ac09601",
   "metadata": {},
   "source": [
    "Based on the OLS regression, we can expect that the four features (passing, attacking, defending, and skill) will do fairly well for predicting rank for out-of-sample data based on a few things. Firstly, the R-squared value is 0.705, meaning that 70.5% of the variance in the rank is explain by the four features previously mentioned. Secondly, if we choose an alpha level of .05, we can say that passing, attacking, and defending are statistically significant predictors of rank. However, skill has a p-value of 0.465, indicating it is not statistically significant. "
   ]
  },
  {
   "cell_type": "code",
   "execution_count": 18,
   "id": "ebf3a9ee-af8d-4dfb-8f6f-3c7218cbc2f2",
   "metadata": {},
   "outputs": [],
   "source": [
    "from sklearn.model_selection import train_test_split"
   ]
  },
  {
   "cell_type": "code",
   "execution_count": 19,
   "id": "bd7c2543-eab4-4cbe-b988-c12b343e27ff",
   "metadata": {},
   "outputs": [],
   "source": [
    "# Create an X dataframe with just four features: passing, attacking, defending, and skill\n",
    "X = df[['passing', 'attacking', 'defending', 'skill']]\n",
    "# Create a Y dataframe (or series) with just the “rank” variable\n",
    "Y = df['rank']"
   ]
  },
  {
   "cell_type": "code",
   "execution_count": 20,
   "id": "286c1582-88f1-4878-858a-413095626cee",
   "metadata": {},
   "outputs": [
    {
     "data": {
      "text/html": [
       "<div>\n",
       "<style scoped>\n",
       "    .dataframe tbody tr th:only-of-type {\n",
       "        vertical-align: middle;\n",
       "    }\n",
       "\n",
       "    .dataframe tbody tr th {\n",
       "        vertical-align: top;\n",
       "    }\n",
       "\n",
       "    .dataframe thead th {\n",
       "        text-align: right;\n",
       "    }\n",
       "</style>\n",
       "<table border=\"1\" class=\"dataframe\">\n",
       "  <thead>\n",
       "    <tr style=\"text-align: right;\">\n",
       "      <th></th>\n",
       "      <th>passing</th>\n",
       "      <th>attacking</th>\n",
       "      <th>defending</th>\n",
       "      <th>skill</th>\n",
       "    </tr>\n",
       "  </thead>\n",
       "  <tbody>\n",
       "    <tr>\n",
       "      <th>0</th>\n",
       "      <td>91.0</td>\n",
       "      <td>85.8</td>\n",
       "      <td>26.333333</td>\n",
       "      <td>94.0</td>\n",
       "    </tr>\n",
       "    <tr>\n",
       "      <th>1</th>\n",
       "      <td>70.0</td>\n",
       "      <td>69.0</td>\n",
       "      <td>89.000000</td>\n",
       "      <td>62.2</td>\n",
       "    </tr>\n",
       "    <tr>\n",
       "      <th>2</th>\n",
       "      <td>75.0</td>\n",
       "      <td>86.0</td>\n",
       "      <td>25.000000</td>\n",
       "      <td>79.0</td>\n",
       "    </tr>\n",
       "    <tr>\n",
       "      <th>3</th>\n",
       "      <td>62.0</td>\n",
       "      <td>62.6</td>\n",
       "      <td>91.333333</td>\n",
       "      <td>67.8</td>\n",
       "    </tr>\n",
       "    <tr>\n",
       "      <th>4</th>\n",
       "      <td>79.0</td>\n",
       "      <td>86.0</td>\n",
       "      <td>32.000000</td>\n",
       "      <td>81.4</td>\n",
       "    </tr>\n",
       "  </tbody>\n",
       "</table>\n",
       "</div>"
      ],
      "text/plain": [
       "   passing  attacking  defending  skill\n",
       "0     91.0       85.8  26.333333   94.0\n",
       "1     70.0       69.0  89.000000   62.2\n",
       "2     75.0       86.0  25.000000   79.0\n",
       "3     62.0       62.6  91.333333   67.8\n",
       "4     79.0       86.0  32.000000   81.4"
      ]
     },
     "execution_count": 20,
     "metadata": {},
     "output_type": "execute_result"
    }
   ],
   "source": [
    "# X first five rows\n",
    "X.head()"
   ]
  },
  {
   "cell_type": "code",
   "execution_count": 21,
   "id": "a9d9ad29-8dfe-4825-a114-05101340a279",
   "metadata": {},
   "outputs": [
    {
     "data": {
      "text/plain": [
       "0    93\n",
       "1    92\n",
       "2    92\n",
       "3    92\n",
       "4    92\n",
       "Name: rank, dtype: int64"
      ]
     },
     "execution_count": 21,
     "metadata": {},
     "output_type": "execute_result"
    }
   ],
   "source": [
    "# Y first five rows\n",
    "Y.head()"
   ]
  },
  {
   "cell_type": "code",
   "execution_count": 22,
   "id": "33b6888c-b3f9-440a-928a-d1d0f3d7908e",
   "metadata": {},
   "outputs": [
    {
     "data": {
      "text/html": [
       "<div>\n",
       "<style scoped>\n",
       "    .dataframe tbody tr th:only-of-type {\n",
       "        vertical-align: middle;\n",
       "    }\n",
       "\n",
       "    .dataframe tbody tr th {\n",
       "        vertical-align: top;\n",
       "    }\n",
       "\n",
       "    .dataframe thead th {\n",
       "        text-align: right;\n",
       "    }\n",
       "</style>\n",
       "<table border=\"1\" class=\"dataframe\">\n",
       "  <thead>\n",
       "    <tr style=\"text-align: right;\">\n",
       "      <th></th>\n",
       "      <th>passing</th>\n",
       "      <th>attacking</th>\n",
       "      <th>defending</th>\n",
       "      <th>skill</th>\n",
       "    </tr>\n",
       "  </thead>\n",
       "  <tbody>\n",
       "    <tr>\n",
       "      <th>3225</th>\n",
       "      <td>44.0</td>\n",
       "      <td>42.4</td>\n",
       "      <td>75.333333</td>\n",
       "      <td>39.4</td>\n",
       "    </tr>\n",
       "    <tr>\n",
       "      <th>18668</th>\n",
       "      <td>52.0</td>\n",
       "      <td>46.6</td>\n",
       "      <td>48.666667</td>\n",
       "      <td>50.6</td>\n",
       "    </tr>\n",
       "    <tr>\n",
       "      <th>9311</th>\n",
       "      <td>NaN</td>\n",
       "      <td>12.0</td>\n",
       "      <td>10.000000</td>\n",
       "      <td>14.2</td>\n",
       "    </tr>\n",
       "    <tr>\n",
       "      <th>19247</th>\n",
       "      <td>45.0</td>\n",
       "      <td>43.6</td>\n",
       "      <td>32.666667</td>\n",
       "      <td>43.6</td>\n",
       "    </tr>\n",
       "    <tr>\n",
       "      <th>11498</th>\n",
       "      <td>54.0</td>\n",
       "      <td>58.4</td>\n",
       "      <td>45.000000</td>\n",
       "      <td>54.4</td>\n",
       "    </tr>\n",
       "  </tbody>\n",
       "</table>\n",
       "</div>"
      ],
      "text/plain": [
       "       passing  attacking  defending  skill\n",
       "3225      44.0       42.4  75.333333   39.4\n",
       "18668     52.0       46.6  48.666667   50.6\n",
       "9311       NaN       12.0  10.000000   14.2\n",
       "19247     45.0       43.6  32.666667   43.6\n",
       "11498     54.0       58.4  45.000000   54.4"
      ]
     },
     "execution_count": 22,
     "metadata": {},
     "output_type": "execute_result"
    }
   ],
   "source": [
    "X_train, X_val, Y_train, Y_val = train_test_split(X, Y, test_size=0.25, random_state=123)\n",
    "X_train.head()"
   ]
  },
  {
   "cell_type": "code",
   "execution_count": 23,
   "id": "4a3f6e5e-fe96-44e8-8ea6-cc7dde7ccdea",
   "metadata": {},
   "outputs": [
    {
     "data": {
      "text/plain": [
       "(25.26043896525949,\n",
       " array([-0.02738345,  0.61570071,  0.17364093,  0.00464593]))"
      ]
     },
     "execution_count": 23,
     "metadata": {},
     "output_type": "execute_result"
    }
   ],
   "source": [
    "from sklearn.linear_model import LinearRegression\n",
    "X_train_clean = X_train.dropna()\n",
    "Y_train_clean = Y_train.loc[X_train_clean.index]\n",
    "\n",
    "# Train a linear regression model\n",
    "linear_model = LinearRegression()\n",
    "linear_model.fit(X_train_clean, Y_train_clean)\n",
    "\n",
    "# Get intercept and coefs\n",
    "intercept = linear_model.intercept_\n",
    "coefficients = linear_model.coef_\n",
    "\n",
    "intercept, coefficients"
   ]
  },
  {
   "cell_type": "code",
   "execution_count": 24,
   "id": "e2089c0e-a6c3-4daf-800a-c5b8cbc95ff6",
   "metadata": {},
   "outputs": [
    {
     "name": "stdout",
     "output_type": "stream",
     "text": [
      "Difference between Attacking coefficient: -0.004800705533391181\n"
     ]
    }
   ],
   "source": [
    "# Get difference between Attacking coefficients from both models\n",
    "statsmodels_coef = 0.6109\n",
    "sklearn_coef = coefficients[1]\n",
    "print(f\"Difference between Attacking coefficient: {statsmodels_coef - sklearn_coef}\")"
   ]
  },
  {
   "cell_type": "markdown",
   "id": "83848878-1f1c-465b-8bc7-87110fa166be",
   "metadata": {},
   "source": [
    "The coefficients are pretty similar. In the OLS regression model, the coefficients were the following - Passing: -0.0247, Attacking: 0.6109, Defending: 0.1719, Skill: 0.0066. The linear regression (SKLearn) done in part has the following coefficients - Passing: -0.02738345, Attacking: 0.61570071, Defending: 0.17364093, Skill: 0.00464593. Notice that the \"Attacking\" coefficient decreased by roughly -0.004800 (as you can see above) from the statsmodels regression to the SKLearn one. "
   ]
  },
  {
   "cell_type": "code",
   "execution_count": 26,
   "id": "3e677aa9-3b0d-4f84-b31b-ec97040d4570",
   "metadata": {},
   "outputs": [
    {
     "data": {
      "text/plain": [
       "array([74.8589868, 64.3430183, 57.9340074])"
      ]
     },
     "execution_count": 26,
     "metadata": {},
     "output_type": "execute_result"
    }
   ],
   "source": [
    "# use linear_model to predict X validation set data\n",
    "Y_val_predictions = linear_model.predict(X_val.dropna())\n",
    "\n",
    "# Display the first three predicted values\n",
    "Y_val_predictions[:3]"
   ]
  },
  {
   "cell_type": "code",
   "execution_count": 27,
   "id": "ca9457ce-43bc-42d0-9a37-e6cdb639a581",
   "metadata": {},
   "outputs": [
    {
     "data": {
      "image/png": "[encoded data removed]",
      "text/plain": [
       "<Figure size 800x600 with 1 Axes>"
      ]
     },
     "metadata": {},
     "output_type": "display_data"
    }
   ],
   "source": [
    "Y_val_clean = Y_val.loc[X_val.dropna().index]\n",
    "# Scatterplot of actual vs predicted Y values\n",
    "plt.figure(figsize=(8, 6))\n",
    "plt.scatter(Y_val_clean, Y_val_predictions)\n",
    "# Plot x = y to compare with observed vs. predicted\n",
    "plt.plot([Y_val_clean.min(), Y_val_clean.max()], [Y_val_clean.min(), Y_val_clean.max()], color='red') \n",
    "plt.title(\"Actual vs Predicted Y Values\")\n",
    "plt.xlabel(\"Actual Y Values (Validation Data)\")\n",
    "plt.ylabel(\"Predicted Y Values\")\n",
    "plt.grid(True)\n",
    "plt.show()"
   ]
  },
  {
   "cell_type": "code",
   "execution_count": 28,
   "id": "dbea6697-93e8-4532-bbfa-53d0576db5e2",
   "metadata": {},
   "outputs": [
    {
     "data": {
      "text/plain": [
       "3.7308034318745116"
      ]
     },
     "execution_count": 28,
     "metadata": {},
     "output_type": "execute_result"
    }
   ],
   "source": [
    "from sklearn.metrics import mean_squared_error\n",
    "import numpy as np\n",
    "rmse = np.sqrt(mean_squared_error(Y_val_clean, Y_val_predictions))\n",
    "rmse"
   ]
  },
  {
   "cell_type": "markdown",
   "id": "d1e50e18-5720-4f77-933a-86ed44ce9cd3",
   "metadata": {},
   "source": [
    "As you can see by the calculation above, the Root Mean Squared Error is around 3.7308. This means that the average error across the model between the predicted Y-values and the actual observed Y-values is roughly 3.7308 units. Based on this, the model seems to provide fairly accurate predictions although there is still room for improvement. "
   ]
  },
  {
   "cell_type": "markdown",
   "id": "b88c8a9f-352e-4468-ab5b-198ca9d34731",
   "metadata": {},
   "source": [
    "As mentioned above, I think this model provides fairly accurate predictions for player rank. The RMSE is around 3.7308, meaning that the average error between predicted Y-values and observed ones is approximately 3.7308 rank units. The scatterplot of predicted vs. observed Y-values shows that predictions generally align well with the x=y line, suggesting that the model captures the underlying pattern nicely. While there are some outliers, the model performs well overall in predicting player rank."
   ]
  },
  {
   "cell_type": "code",
   "execution_count": 31,
   "id": "1e1dc59f-2164-426b-a092-14e44f804d8a",
   "metadata": {},
   "outputs": [
    {
     "data": {
      "text/plain": [
       "preferred_foot\n",
       "Right    14985\n",
       "Left      4645\n",
       "Name: count, dtype: int64"
      ]
     },
     "execution_count": 31,
     "metadata": {},
     "output_type": "execute_result"
    }
   ],
   "source": [
    "df['preferred_foot'].value_counts()"
   ]
  },
  {
   "cell_type": "code",
   "execution_count": 32,
   "id": "7427407a-502f-43f3-8baf-efdde415d1f2",
   "metadata": {},
   "outputs": [
    {
     "name": "stdout",
     "output_type": "stream",
     "text": [
      "% of right-footed players: 76.34\n"
     ]
    }
   ],
   "source": [
    "right_foot_percentage = (df['preferred_foot'].value_counts()['Right'] / df.shape[0]) * 100\n",
    "print(f\"% of right-footed players: {round(right_foot_percentage, 2)}\")"
   ]
  },
  {
   "cell_type": "code",
   "execution_count": 33,
   "id": "abcad5ec-68b0-4a5b-8638-08fc98fc021f",
   "metadata": {},
   "outputs": [
    {
     "data": {
      "text/html": [
       "<div>\n",
       "<style scoped>\n",
       "    .dataframe tbody tr th:only-of-type {\n",
       "        vertical-align: middle;\n",
       "    }\n",
       "\n",
       "    .dataframe tbody tr th {\n",
       "        vertical-align: top;\n",
       "    }\n",
       "\n",
       "    .dataframe thead th {\n",
       "        text-align: right;\n",
       "    }\n",
       "</style>\n",
       "<table border=\"1\" class=\"dataframe\">\n",
       "  <thead>\n",
       "    <tr style=\"text-align: right;\">\n",
       "      <th></th>\n",
       "      <th>shooting</th>\n",
       "      <th>passing</th>\n",
       "      <th>dribbling</th>\n",
       "      <th>defending</th>\n",
       "      <th>attacking</th>\n",
       "      <th>skill</th>\n",
       "      <th>movement</th>\n",
       "      <th>power</th>\n",
       "      <th>mentality</th>\n",
       "      <th>goalkeeping</th>\n",
       "    </tr>\n",
       "  </thead>\n",
       "  <tbody>\n",
       "    <tr>\n",
       "      <th>0</th>\n",
       "      <td>92.0</td>\n",
       "      <td>91.0</td>\n",
       "      <td>95.0</td>\n",
       "      <td>26.333333</td>\n",
       "      <td>85.8</td>\n",
       "      <td>94.0</td>\n",
       "      <td>90.2</td>\n",
       "      <td>77.8</td>\n",
       "      <td>73.833333</td>\n",
       "      <td>10.8</td>\n",
       "    </tr>\n",
       "    <tr>\n",
       "      <th>1</th>\n",
       "      <td>61.0</td>\n",
       "      <td>70.0</td>\n",
       "      <td>81.0</td>\n",
       "      <td>89.000000</td>\n",
       "      <td>69.0</td>\n",
       "      <td>62.2</td>\n",
       "      <td>84.2</td>\n",
       "      <td>78.8</td>\n",
       "      <td>69.166667</td>\n",
       "      <td>12.6</td>\n",
       "    </tr>\n",
       "    <tr>\n",
       "      <th>2</th>\n",
       "      <td>93.0</td>\n",
       "      <td>75.0</td>\n",
       "      <td>88.0</td>\n",
       "      <td>25.000000</td>\n",
       "      <td>86.0</td>\n",
       "      <td>79.0</td>\n",
       "      <td>80.6</td>\n",
       "      <td>84.0</td>\n",
       "      <td>70.833333</td>\n",
       "      <td>15.6</td>\n",
       "    </tr>\n",
       "    <tr>\n",
       "      <th>3</th>\n",
       "      <td>70.0</td>\n",
       "      <td>62.0</td>\n",
       "      <td>73.0</td>\n",
       "      <td>91.333333</td>\n",
       "      <td>62.6</td>\n",
       "      <td>67.8</td>\n",
       "      <td>64.0</td>\n",
       "      <td>82.4</td>\n",
       "      <td>73.500000</td>\n",
       "      <td>12.8</td>\n",
       "    </tr>\n",
       "    <tr>\n",
       "      <th>4</th>\n",
       "      <td>92.0</td>\n",
       "      <td>79.0</td>\n",
       "      <td>86.0</td>\n",
       "      <td>32.000000</td>\n",
       "      <td>86.0</td>\n",
       "      <td>81.4</td>\n",
       "      <td>81.6</td>\n",
       "      <td>84.8</td>\n",
       "      <td>80.666667</td>\n",
       "      <td>10.2</td>\n",
       "    </tr>\n",
       "  </tbody>\n",
       "</table>\n",
       "</div>"
      ],
      "text/plain": [
       "   shooting  passing  dribbling  defending  attacking  skill  movement  power  \\\n",
       "0      92.0     91.0       95.0  26.333333       85.8   94.0      90.2   77.8   \n",
       "1      61.0     70.0       81.0  89.000000       69.0   62.2      84.2   78.8   \n",
       "2      93.0     75.0       88.0  25.000000       86.0   79.0      80.6   84.0   \n",
       "3      70.0     62.0       73.0  91.333333       62.6   67.8      64.0   82.4   \n",
       "4      92.0     79.0       86.0  32.000000       86.0   81.4      81.6   84.8   \n",
       "\n",
       "   mentality  goalkeeping  \n",
       "0  73.833333         10.8  \n",
       "1  69.166667         12.6  \n",
       "2  70.833333         15.6  \n",
       "3  73.500000         12.8  \n",
       "4  80.666667         10.2  "
      ]
     },
     "execution_count": 33,
     "metadata": {},
     "output_type": "execute_result"
    }
   ],
   "source": [
    "X_classifier = df[['shooting', 'passing', 'dribbling', 'defending', 'attacking', \n",
    "                          'skill', 'movement', 'power', 'mentality', 'goalkeeping']]\n",
    "X_classifier.head()"
   ]
  },
  {
   "cell_type": "code",
   "execution_count": 34,
   "id": "3ac80c64-bed6-4f26-b4d4-ee43d17bd6fb",
   "metadata": {},
   "outputs": [
    {
     "data": {
      "text/html": [
       "<div>\n",
       "<style scoped>\n",
       "    .dataframe tbody tr th:only-of-type {\n",
       "        vertical-align: middle;\n",
       "    }\n",
       "\n",
       "    .dataframe tbody tr th {\n",
       "        vertical-align: top;\n",
       "    }\n",
       "\n",
       "    .dataframe thead th {\n",
       "        text-align: right;\n",
       "    }\n",
       "</style>\n",
       "<table border=\"1\" class=\"dataframe\">\n",
       "  <thead>\n",
       "    <tr style=\"text-align: right;\">\n",
       "      <th></th>\n",
       "      <th>shooting</th>\n",
       "      <th>passing</th>\n",
       "      <th>dribbling</th>\n",
       "      <th>defending</th>\n",
       "      <th>attacking</th>\n",
       "      <th>skill</th>\n",
       "      <th>movement</th>\n",
       "      <th>power</th>\n",
       "      <th>mentality</th>\n",
       "      <th>goalkeeping</th>\n",
       "    </tr>\n",
       "  </thead>\n",
       "  <tbody>\n",
       "    <tr>\n",
       "      <th>0</th>\n",
       "      <td>2.784312</td>\n",
       "      <td>3.296642</td>\n",
       "      <td>3.315358</td>\n",
       "      <td>-1.005167</td>\n",
       "      <td>2.386146</td>\n",
       "      <td>2.685046</td>\n",
       "      <td>2.313003</td>\n",
       "      <td>1.765803</td>\n",
       "      <td>1.721549</td>\n",
       "      <td>-0.320847</td>\n",
       "    </tr>\n",
       "    <tr>\n",
       "      <th>1</th>\n",
       "      <td>0.597719</td>\n",
       "      <td>1.229719</td>\n",
       "      <td>1.876719</td>\n",
       "      <td>2.051086</td>\n",
       "      <td>1.270271</td>\n",
       "      <td>0.676662</td>\n",
       "      <td>1.787188</td>\n",
       "      <td>1.862531</td>\n",
       "      <td>1.350906</td>\n",
       "      <td>-0.205781</td>\n",
       "    </tr>\n",
       "    <tr>\n",
       "      <th>2</th>\n",
       "      <td>2.854847</td>\n",
       "      <td>1.721843</td>\n",
       "      <td>2.596039</td>\n",
       "      <td>-1.070194</td>\n",
       "      <td>2.399430</td>\n",
       "      <td>1.737695</td>\n",
       "      <td>1.471698</td>\n",
       "      <td>2.365515</td>\n",
       "      <td>1.483279</td>\n",
       "      <td>-0.014003</td>\n",
       "    </tr>\n",
       "    <tr>\n",
       "      <th>3</th>\n",
       "      <td>1.232536</td>\n",
       "      <td>0.442320</td>\n",
       "      <td>1.054640</td>\n",
       "      <td>2.164883</td>\n",
       "      <td>0.845177</td>\n",
       "      <td>1.030340</td>\n",
       "      <td>0.016941</td>\n",
       "      <td>2.210750</td>\n",
       "      <td>1.695075</td>\n",
       "      <td>-0.192996</td>\n",
       "    </tr>\n",
       "    <tr>\n",
       "      <th>4</th>\n",
       "      <td>2.784312</td>\n",
       "      <td>2.115543</td>\n",
       "      <td>2.390519</td>\n",
       "      <td>-0.728804</td>\n",
       "      <td>2.399430</td>\n",
       "      <td>1.889271</td>\n",
       "      <td>1.559334</td>\n",
       "      <td>2.442897</td>\n",
       "      <td>2.264277</td>\n",
       "      <td>-0.359203</td>\n",
       "    </tr>\n",
       "  </tbody>\n",
       "</table>\n",
       "</div>"
      ],
      "text/plain": [
       "   shooting   passing  dribbling  defending  attacking     skill  movement  \\\n",
       "0  2.784312  3.296642   3.315358  -1.005167   2.386146  2.685046  2.313003   \n",
       "1  0.597719  1.229719   1.876719   2.051086   1.270271  0.676662  1.787188   \n",
       "2  2.854847  1.721843   2.596039  -1.070194   2.399430  1.737695  1.471698   \n",
       "3  1.232536  0.442320   1.054640   2.164883   0.845177  1.030340  0.016941   \n",
       "4  2.784312  2.115543   2.390519  -0.728804   2.399430  1.889271  1.559334   \n",
       "\n",
       "      power  mentality  goalkeeping  \n",
       "0  1.765803   1.721549    -0.320847  \n",
       "1  1.862531   1.350906    -0.205781  \n",
       "2  2.365515   1.483279    -0.014003  \n",
       "3  2.210750   1.695075    -0.192996  \n",
       "4  2.442897   2.264277    -0.359203  "
      ]
     },
     "execution_count": 34,
     "metadata": {},
     "output_type": "execute_result"
    }
   ],
   "source": [
    "from sklearn.preprocessing import StandardScaler\n",
    "scaler = StandardScaler()\n",
    "X_normalized = scaler.fit_transform(X_classifier)\n",
    "X_normalized_df = pd.DataFrame(X_normalized, columns=X_classifier.columns)\n",
    "\n",
    "# Display first three rows of the normalized data\n",
    "X_normalized_df.head()"
   ]
  },
  {
   "cell_type": "code",
   "execution_count": 35,
   "id": "2c44c963-670e-44b4-9a42-9b25b4e5b933",
   "metadata": {},
   "outputs": [
    {
     "data": {
      "text/html": [
       "<div>\n",
       "<style scoped>\n",
       "    .dataframe tbody tr th:only-of-type {\n",
       "        vertical-align: middle;\n",
       "    }\n",
       "\n",
       "    .dataframe tbody tr th {\n",
       "        vertical-align: top;\n",
       "    }\n",
       "\n",
       "    .dataframe thead th {\n",
       "        text-align: right;\n",
       "    }\n",
       "</style>\n",
       "<table border=\"1\" class=\"dataframe\">\n",
       "  <thead>\n",
       "    <tr style=\"text-align: right;\">\n",
       "      <th></th>\n",
       "      <th>shooting</th>\n",
       "      <th>passing</th>\n",
       "      <th>dribbling</th>\n",
       "      <th>defending</th>\n",
       "      <th>attacking</th>\n",
       "      <th>skill</th>\n",
       "      <th>movement</th>\n",
       "      <th>power</th>\n",
       "      <th>mentality</th>\n",
       "      <th>goalkeeping</th>\n",
       "    </tr>\n",
       "  </thead>\n",
       "  <tbody>\n",
       "    <tr>\n",
       "      <th>18335</th>\n",
       "      <td>0.174507</td>\n",
       "      <td>-1.329328</td>\n",
       "      <td>-0.486758</td>\n",
       "      <td>-1.314044</td>\n",
       "      <td>-0.137855</td>\n",
       "      <td>-0.333846</td>\n",
       "      <td>-0.631565</td>\n",
       "      <td>-0.265478</td>\n",
       "      <td>-0.925901</td>\n",
       "      <td>-0.461484</td>\n",
       "    </tr>\n",
       "    <tr>\n",
       "      <th>15808</th>\n",
       "      <td>-0.389775</td>\n",
       "      <td>0.147045</td>\n",
       "      <td>-0.075718</td>\n",
       "      <td>0.344136</td>\n",
       "      <td>0.127829</td>\n",
       "      <td>0.272459</td>\n",
       "      <td>-0.053167</td>\n",
       "      <td>0.334233</td>\n",
       "      <td>0.080130</td>\n",
       "      <td>-0.371988</td>\n",
       "    </tr>\n",
       "    <tr>\n",
       "      <th>5295</th>\n",
       "      <td>-0.671916</td>\n",
       "      <td>0.343895</td>\n",
       "      <td>0.540841</td>\n",
       "      <td>1.059430</td>\n",
       "      <td>0.194250</td>\n",
       "      <td>0.310353</td>\n",
       "      <td>0.297376</td>\n",
       "      <td>0.643762</td>\n",
       "      <td>0.318401</td>\n",
       "      <td>-0.371988</td>\n",
       "    </tr>\n",
       "    <tr>\n",
       "      <th>10725</th>\n",
       "      <td>0.668254</td>\n",
       "      <td>0.147045</td>\n",
       "      <td>0.438081</td>\n",
       "      <td>0.116543</td>\n",
       "      <td>0.579492</td>\n",
       "      <td>0.487192</td>\n",
       "      <td>1.296426</td>\n",
       "      <td>0.276197</td>\n",
       "      <td>0.013944</td>\n",
       "      <td>-0.487054</td>\n",
       "    </tr>\n",
       "    <tr>\n",
       "      <th>6127</th>\n",
       "      <td>1.162001</td>\n",
       "      <td>0.737594</td>\n",
       "      <td>0.951880</td>\n",
       "      <td>-1.053937</td>\n",
       "      <td>1.137429</td>\n",
       "      <td>0.588242</td>\n",
       "      <td>1.086100</td>\n",
       "      <td>0.430961</td>\n",
       "      <td>0.172791</td>\n",
       "      <td>-0.269706</td>\n",
       "    </tr>\n",
       "  </tbody>\n",
       "</table>\n",
       "</div>"
      ],
      "text/plain": [
       "       shooting   passing  dribbling  defending  attacking     skill  \\\n",
       "18335  0.174507 -1.329328  -0.486758  -1.314044  -0.137855 -0.333846   \n",
       "15808 -0.389775  0.147045  -0.075718   0.344136   0.127829  0.272459   \n",
       "5295  -0.671916  0.343895   0.540841   1.059430   0.194250  0.310353   \n",
       "10725  0.668254  0.147045   0.438081   0.116543   0.579492  0.487192   \n",
       "6127   1.162001  0.737594   0.951880  -1.053937   1.137429  0.588242   \n",
       "\n",
       "       movement     power  mentality  goalkeeping  \n",
       "18335 -0.631565 -0.265478  -0.925901    -0.461484  \n",
       "15808 -0.053167  0.334233   0.080130    -0.371988  \n",
       "5295   0.297376  0.643762   0.318401    -0.371988  \n",
       "10725  1.296426  0.276197   0.013944    -0.487054  \n",
       "6127   1.086100  0.430961   0.172791    -0.269706  "
      ]
     },
     "execution_count": 35,
     "metadata": {},
     "output_type": "execute_result"
    }
   ],
   "source": [
    "Y_classifier = df['preferred_foot']\n",
    "X_train_classifier, X_val_classifier, Y_train_classifier, Y_val_classifier = train_test_split(\n",
    "    X_normalized_df, Y_classifier, test_size=0.30, random_state=456)\n",
    "\n",
    "# Display first 5 rows of X training data\n",
    "X_train_classifier.head()"
   ]
  },
  {
   "cell_type": "code",
   "execution_count": 36,
   "id": "3303ea83-f148-4480-9a48-a07c533d6003",
   "metadata": {},
   "outputs": [
    {
     "data": {
      "image/png": "[encoded data removed]",
      "text/plain": [
       "<Figure size 1000x600 with 1 Axes>"
      ]
     },
     "metadata": {},
     "output_type": "display_data"
    }
   ],
   "source": [
    "from sklearn.neighbors import KNeighborsClassifier\n",
    "from sklearn.metrics import accuracy_score\n",
    "import matplotlib.pyplot as plt\n",
    "\n",
    "# Although maybe not entirely necessary, lets impute missing values rather than dropping rows that contain them. \n",
    "from sklearn.impute import SimpleImputer\n",
    "imputer = SimpleImputer(strategy='mean')\n",
    "X_train_classifier_imputed = imputer.fit_transform(X_train_classifier)\n",
    "X_val_classifier_imputed = imputer.transform(X_val_classifier)\n",
    "# Initialize list for k_values and accuracies - will append accuracies list later\n",
    "k_values = list(range(1, 31))\n",
    "accuracies = []\n",
    "# for loop through list and calculate accuracy\n",
    "for k in k_values:\n",
    "    knn = KNeighborsClassifier(n_neighbors=k)\n",
    "    knn.fit(X_train_classifier_imputed, Y_train_classifier)\n",
    "    # Predict on the validation set\n",
    "    Y_val_pred = knn.predict(X_val_classifier_imputed)\n",
    "    accuracy = accuracy_score(Y_val_classifier, Y_val_pred)\n",
    "    accuracies.append(accuracy)\n",
    "\n",
    "# adjust figsize, if not x-axis numbers are squashed\n",
    "plt.figure(figsize=(10, 6))\n",
    "plt.plot(k_values, accuracies, marker='o')\n",
    "plt.title('KNN Classifier Accuracy vs. Number of Neighbors (k)')\n",
    "plt.xlabel('Number of Neighbors (k)')\n",
    "plt.ylabel('Accuracy')\n",
    "plt.xticks(k_values)\n",
    "plt.grid(True)\n",
    "plt.show()"
   ]
  },
  {
   "cell_type": "code",
   "execution_count": 37,
   "id": "eb16ef75-edd3-4f76-9eb6-6b61fd121b45",
   "metadata": {},
   "outputs": [
    {
     "name": "stdout",
     "output_type": "stream",
     "text": [
      "Best value for K: 29\n",
      "Accuracy for K-value 29: 0.7709\n"
     ]
    }
   ],
   "source": [
    "print(f\"Best value for K: {k_values[accuracies.index(max(accuracies))]}\")\n",
    "print(f\"Accuracy for K-value 29: {round(max(accuracies), 4)}\")"
   ]
  },
  {
   "cell_type": "markdown",
   "id": "95834ec1-2590-44aa-850d-e2f190d0193e",
   "metadata": {},
   "source": [
    "As you can see above, the most reasonable k-value is 29, because it has the highest accuracy with roughly .7709 when rounded to the nearest 4th decimal place. "
   ]
  },
  {
   "cell_type": "code",
   "execution_count": 39,
   "id": "0f2f5f5d-c839-4f91-81fb-3c45d5e47ef0",
   "metadata": {},
   "outputs": [
    {
     "data": {
      "text/plain": [
       "array(['Right', 'Right', 'Right'], dtype=object)"
      ]
     },
     "execution_count": 39,
     "metadata": {},
     "output_type": "execute_result"
    }
   ],
   "source": [
    "knn_final = KNeighborsClassifier(n_neighbors=29)\n",
    "knn_final.fit(X_train_classifier_imputed, Y_train_classifier)\n",
    "Y_val_final_pred = knn_final.predict(X_val_classifier_imputed)\n",
    "# Display (at least) the first 3 predictions for “preferred foot.”\n",
    "Y_val_final_pred[:3]"
   ]
  },
  {
   "cell_type": "code",
   "execution_count": 40,
   "id": "32ba9e86-4808-4f37-9aa2-93891ed41ae7",
   "metadata": {},
   "outputs": [
    {
     "data": {
      "text/plain": [
       "1290"
      ]
     },
     "execution_count": 40,
     "metadata": {},
     "output_type": "execute_result"
    }
   ],
   "source": [
    "from sklearn.metrics import confusion_matrix\n",
    "conf_matrix = confusion_matrix(Y_val_classifier, Y_val_final_pred)\n",
    "# Extract num for True Lefts predicted as Right\n",
    "true_left_pred_right = conf_matrix[0, 1]\n",
    "true_left_pred_right"
   ]
  },
  {
   "cell_type": "code",
   "execution_count": 41,
   "id": "27c4367f-cd77-4846-aa55-f13eaca09e2c",
   "metadata": {},
   "outputs": [
    {
     "name": "stdout",
     "output_type": "stream",
     "text": [
      "              precision    recall  f1-score   support\n",
      "\n",
      "        Left       0.51      0.05      0.08      1352\n",
      "       Right       0.78      0.99      0.87      4537\n",
      "\n",
      "    accuracy                           0.77      5889\n",
      "   macro avg       0.64      0.52      0.48      5889\n",
      "weighted avg       0.72      0.77      0.69      5889\n",
      "\n"
     ]
    }
   ],
   "source": [
    "from sklearn.metrics import classification_report\n",
    "class_report = classification_report(Y_val_classifier, Y_val_final_pred)\n",
    "print(class_report)"
   ]
  },
  {
   "cell_type": "markdown",
   "id": "955a5afe-6c94-41fb-8c6c-7204b8b9301f",
   "metadata": {},
   "source": [
    "The recall here (.05) suggests that the model only correctly identified 5% of the true left-footers in the dataset. One must always be careful when classes are very unbalanced. We previously saw that the soccer players in this study disproportionately skew to be right-footed, meaning our KNN model trained on this data set could be biased towards predicting right-footers. Notice how the recall for right-footed predictions is unbelievably high, around 99%. "
   ]
  },
  {
   "cell_type": "markdown",
   "id": "6f33270b-650f-4ee4-8325-d1f54ff57857",
   "metadata": {},
   "source": [
    "Overall, the model does a poor job of predicting a player's preferred foot. As we calculated early on, simply guessing that a player is right-footed each time would yield an accuracy of 76.34%, which is already quite high. After optimizing k for KNN, the model achieved only a marginal improvement, with an accuracy of 77.09%. While this may seem satisfactory at first, the recall for left-footers was shockingly low. The model predicts right-footers well, but this is largely because it guesses 'Right' most of the time due to the class imbalance. Accuracy alone is not a sufficient metric for evaluating models in the presence of unbalanced classes. The model's inability to predict left-footed players makes it inadequate for predicting a players preferred-foot."
   ]
  }
 ],
 "metadata": {
  "kernelspec": {
   "display_name": "Python [conda env:base] *",
   "language": "python",
   "name": "conda-base-py"
  },
  "language_info": {
   "codemirror_mode": {
    "name": "ipython",
    "version": 3
   },
   "file_extension": ".py",
   "mimetype": "text/x-python",
   "name": "python",
   "nbconvert_exporter": "python",
   "pygments_lexer": "ipython3",
   "version": "3.12.2"
  }
 },
 "nbformat": 4,
 "nbformat_minor": 5
}
